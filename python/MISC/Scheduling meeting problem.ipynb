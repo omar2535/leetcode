{
 "cells": [
  {
   "cell_type": "code",
   "execution_count": 15,
   "metadata": {},
   "outputs": [],
   "source": [
    "#Input: appointments[] = { {1, 5} {3, 7}, {2, 6}, {10, 15}, {5, 6}, {4, 100}}\n",
    "#Output: Following are conflicting intervals\n",
    "#[3,7] Conflicts with [1,5]\n",
    "#[2,6] Conflicts with [1,5]\n",
    "#[5,6] Conflicts with [3,7]\n",
    "#[4,100] Conflicts with [1,5]\n",
    "\n",
    "def scheduling_meeting_problem(appointments):\n",
    "    conflicts = []\n",
    "    for i in range(0, len(appointments)):\n",
    "        current_appointment = appointments[i]\n",
    "        for j in range(i+1, len(appointments)):\n",
    "            comparing_appointment = appointments[j]\n",
    "            if(current_appointment[0] <= comparing_appointment[0] and\n",
    "               current_appointment[1] <= comparing_appointment[1] and\n",
    "               comparing_appointment[0] < current_appointment[1]):\n",
    "                print(f\"CONFLICTS {current_appointment}, {comparing_appointment}\")\n",
    "    return conflicts\n",
    "        "
   ]
  },
  {
   "cell_type": "code",
   "execution_count": 16,
   "metadata": {},
   "outputs": [
    {
     "name": "stdout",
     "output_type": "stream",
     "text": [
      "CONFLICTS (1, 5), (3, 7)\n",
      "CONFLICTS (1, 5), (2, 6)\n",
      "CONFLICTS (1, 5), (4, 100)\n",
      "CONFLICTS (3, 7), (4, 100)\n",
      "CONFLICTS (2, 6), (5, 6)\n",
      "CONFLICTS (2, 6), (4, 100)\n"
     ]
    },
    {
     "data": {
      "text/plain": [
       "[]"
      ]
     },
     "execution_count": 16,
     "metadata": {},
     "output_type": "execute_result"
    }
   ],
   "source": [
    "appointments = [(1,5),(3,7),(2,6),(10,15),(5,6),(4,100)]\n",
    "scheduling_meeting_problem(appointments)\n",
    "\n",
    "#Input: appointments[] = { {1, 5}, {2, 6}, {3, 7}, {4, 100}, {5, 6}, {10, 15} }"
   ]
  }
 ],
 "metadata": {
  "kernelspec": {
   "display_name": "Python 3",
   "language": "python",
   "name": "python3"
  },
  "language_info": {
   "codemirror_mode": {
    "name": "ipython",
    "version": 3
   },
   "file_extension": ".py",
   "mimetype": "text/x-python",
   "name": "python",
   "nbconvert_exporter": "python",
   "pygments_lexer": "ipython3",
   "version": "3.6.8"
  }
 },
 "nbformat": 4,
 "nbformat_minor": 2
}
