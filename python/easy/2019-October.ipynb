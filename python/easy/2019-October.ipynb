{
 "cells": [
  {
   "cell_type": "code",
   "execution_count": 3,
   "metadata": {},
   "outputs": [
    {
     "name": "stdout",
     "output_type": "stream",
     "text": [
      "0\n",
      "1\n",
      "2\n",
      "3\n"
     ]
    },
    {
     "data": {
      "text/plain": [
       "[50]"
      ]
     },
     "execution_count": 3,
     "metadata": {},
     "output_type": "execute_result"
    }
   ],
   "source": [
    "for i in range(0, 4):\n",
    "    print(i)\n",
    "    \n",
    "arr = []\n",
    "arr + [50]"
   ]
  },
  {
   "cell_type": "code",
   "execution_count": 60,
   "metadata": {},
   "outputs": [],
   "source": [
    "# Substrings of size K with K distinct chars\n",
    "\n",
    "def subStringsKDist(inputStr, num):\n",
    "    if(num > len(inputStr) or len(inputStr) == 0):\n",
    "        return []\n",
    "    if(num == 1):\n",
    "        return list(set(inputStr))\n",
    "    \n",
    "    list_of_substrings = []\n",
    "    \n",
    "    \n",
    "    for index in range(0, len(inputStr) - num+1):\n",
    "        \n",
    "        current_substring = \"\"\n",
    "        \n",
    "        for i in range(0, num):\n",
    "            if (inputStr[index + i] in current_substring):\n",
    "                break\n",
    "            \n",
    "            elif (i == num-1 and current_substring != \"\"):\n",
    "                current_substring += inputStr[index + i]\n",
    "                if(current_substring not in list_of_substrings):\n",
    "                    list_of_substrings += [current_substring]\n",
    "            else:\n",
    "                current_substring += inputStr[index + i]\n",
    "    \n",
    "    return list_of_substrings"
   ]
  },
  {
   "cell_type": "code",
   "execution_count": 61,
   "metadata": {},
   "outputs": [
    {
     "data": {
      "text/plain": [
       "['e', 'a', 'b', 'd', 'c']"
      ]
     },
     "execution_count": 61,
     "metadata": {},
     "output_type": "execute_result"
    }
   ],
   "source": [
    "subStringsKDist(\"abcde\", 1)"
   ]
  },
  {
   "cell_type": "code",
   "execution_count": 50,
   "metadata": {},
   "outputs": [],
   "source": [
    "def maxOfMinAltitudes(columnCount, rowCount, mat):\n",
    "    return maxOfMinAltitudesRecursion(0, 0, columnCount, rowCount, [mat[0][0]], mat)\n",
    "    \n",
    "def maxOfMinAltitudesRecursion(posX, posY, columnCount, rowCount, path, mat):\n",
    "    print(posX,posY)\n",
    "    print(path)\n",
    "    if(posX == columnCount-1 and posY == rowCount-1):\n",
    "        return min(path)\n",
    "    else:\n",
    "        if(posX == columnCount-1 and posY < rowCount-1):\n",
    "            return maxOfMinAltitudesRecursion(posX, posY+1, columnCount,\n",
    "                                              rowCount, path+[mat[posY+1][posX]], mat)\n",
    "        elif(posY == rowCount-1 and posX < columnCount-1):\n",
    "            return maxOfMinAltitudesRecursion(posX+1, posY, columnCount,\n",
    "                                              rowCount, path+[mat[posY][posX+1]], mat)\n",
    "        elif(posY < rowCount-1 and posX < columnCount-1):\n",
    "            return max(\n",
    "                maxOfMinAltitudesRecursion(posX+1, posY, columnCount,\n",
    "                                              rowCount, path+[mat[posY][posX+1]], mat),\n",
    "                maxOfMinAltitudesRecursion(posX, posY+1, columnCount,\n",
    "                                              rowCount, path+[mat[posY+1][posX]], mat)\n",
    "                )"
   ]
  },
  {
   "cell_type": "code",
   "execution_count": 51,
   "metadata": {},
   "outputs": [
    {
     "name": "stdout",
     "output_type": "stream",
     "text": [
      "0 0\n",
      "[5]\n",
      "1 0\n",
      "[5, 1]\n"
     ]
    },
    {
     "data": {
      "text/plain": [
       "1"
      ]
     },
     "execution_count": 51,
     "metadata": {},
     "output_type": "execute_result"
    }
   ],
   "source": [
    "maxOfMinAltitudes(2, 1, [[5,1]])"
   ]
  }
 ],
 "metadata": {
  "kernelspec": {
   "display_name": "Python 3",
   "language": "python",
   "name": "python3"
  },
  "language_info": {
   "codemirror_mode": {
    "name": "ipython",
    "version": 3
   },
   "file_extension": ".py",
   "mimetype": "text/x-python",
   "name": "python",
   "nbconvert_exporter": "python",
   "pygments_lexer": "ipython3",
   "version": "3.6.8"
  }
 },
 "nbformat": 4,
 "nbformat_minor": 2
}
