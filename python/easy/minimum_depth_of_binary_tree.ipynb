{
 "cells": [
  {
   "cell_type": "code",
   "execution_count": 15,
   "metadata": {},
   "outputs": [],
   "source": [
    "# Definition for a binary tree node.\n",
    "class TreeNode:\n",
    "    def __init__(self, x):\n",
    "        self.val = x\n",
    "        self.left = None\n",
    "        self.right = None\n",
    "\n",
    "class Solution:\n",
    "    def minDepth(self, root: TreeNode) -> int:\n",
    "        n = self.num_nodes(root)\n",
    "        if(root == None):\n",
    "            return 0\n",
    "        \n",
    "        return self.minDepthRecursive(root, 1, n)\n",
    "        \n",
    "    def minDepthRecursive(self, node, iterations, n):\n",
    "        if(node == None):\n",
    "            return n\n",
    "        if(node.left == None and node.right == None):\n",
    "            return iterations\n",
    "        \n",
    "        return min(\n",
    "            self.minDepthRecursive(node.left, iterations+1, n),\n",
    "            self.minDepthRecursive(node.right, iterations+1, n)\n",
    "        )\n",
    "\n",
    "    def num_nodes(self, node):\n",
    "        if(node == None):\n",
    "            return 0\n",
    "        else:\n",
    "            return 1 + self.num_nodes(node.left) + self.num_nodes(node.right)"
   ]
  },
  {
   "cell_type": "code",
   "execution_count": 17,
   "metadata": {},
   "outputs": [
    {
     "data": {
      "text/plain": [
       "3"
      ]
     },
     "execution_count": 17,
     "metadata": {},
     "output_type": "execute_result"
    }
   ],
   "source": [
    "root = TreeNode(2)\n",
    "root.left = TreeNode(1)\n",
    "root.right = TreeNode(3)\n",
    "root.left.left = TreeNode(-5)\n",
    "root.right.right = TreeNode(-3)\n",
    "Solution().minDepth(root)"
   ]
  }
 ],
 "metadata": {
  "kernelspec": {
   "display_name": "Python 3",
   "language": "python",
   "name": "python3"
  },
  "language_info": {
   "codemirror_mode": {
    "name": "ipython",
    "version": 3
   },
   "file_extension": ".py",
   "mimetype": "text/x-python",
   "name": "python",
   "nbconvert_exporter": "python",
   "pygments_lexer": "ipython3",
   "version": "3.6.8"
  }
 },
 "nbformat": 4,
 "nbformat_minor": 2
}
