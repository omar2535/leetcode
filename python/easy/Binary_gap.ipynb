{
 "cells": [
  {
   "cell_type": "code",
   "execution_count": 34,
   "metadata": {},
   "outputs": [],
   "source": [
    "# Given a positive integer N, find and return the longest distance between two consecutive 1's in the binary representation of N.\n",
    "\n",
    "# If there aren't two consecutive 1's, return 0.\n",
    "\n",
    " \n",
    "\n",
    "def binaryGap(N: int) -> int:\n",
    "    binary_form = \"{0:b}\".format(N)\n",
    "    max_consecutives = 0\n",
    "    first_one = True\n",
    "    counter = 1\n",
    "    for bit in binary_form:\n",
    "        if bit == \"1\":\n",
    "            if first_one:\n",
    "                first_one = False\n",
    "            elif counter > max_consecutives:\n",
    "                    max_consecutives = counter\n",
    "                    counter = 1\n",
    "            else:\n",
    "                counter = 1\n",
    "        else:\n",
    "            counter += 1\n",
    "    return max_consecutives\n",
    "            "
   ]
  },
  {
   "cell_type": "code",
   "execution_count": 37,
   "metadata": {},
   "outputs": [
    {
     "name": "stdout",
     "output_type": "stream",
     "text": [
      "1\n",
      "2\n",
      "0\n",
      "2\n",
      "5\n",
      "2\n"
     ]
    }
   ],
   "source": [
    "print(binaryGap(6))\n",
    "print(binaryGap(5))\n",
    "print(binaryGap(8))\n",
    "print(binaryGap(343))\n",
    "print(binaryGap(161))\n",
    "print(binaryGap(23))"
   ]
  }
 ],
 "metadata": {
  "kernelspec": {
   "display_name": "Python 3",
   "language": "python",
   "name": "python3"
  },
  "language_info": {
   "codemirror_mode": {
    "name": "ipython",
    "version": 3
   },
   "file_extension": ".py",
   "mimetype": "text/x-python",
   "name": "python",
   "nbconvert_exporter": "python",
   "pygments_lexer": "ipython3",
   "version": "3.6.8"
  }
 },
 "nbformat": 4,
 "nbformat_minor": 2
}
