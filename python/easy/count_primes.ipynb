{
 "cells": [
  {
   "cell_type": "code",
   "execution_count": 49,
   "metadata": {},
   "outputs": [],
   "source": [
    "# this uses the steve of eratosthenes method\n",
    "# https://en.wikipedia.org/wiki/Sieve_of_Eratosthenes\n",
    "class Solution:\n",
    "    def countPrimes(self, n: int) -> int:\n",
    "        if(n == 0 or n == 1):\n",
    "            return 0\n",
    "        number_of_primes = n - 2\n",
    "        marked_off_numbers = [0] * n\n",
    "        for i in range(2, int(n**0.5)+1):\n",
    "            x = i\n",
    "            x += i\n",
    "            while x < n:\n",
    "                if(marked_off_numbers[x] != 1):\n",
    "                    marked_off_numbers[x] = 1\n",
    "                    number_of_primes -= 1\n",
    "                x +=i\n",
    "        return number_of_primes"
   ]
  },
  {
   "cell_type": "code",
   "execution_count": 50,
   "metadata": {},
   "outputs": [
    {
     "data": {
      "text/plain": [
       "4"
      ]
     },
     "execution_count": 50,
     "metadata": {},
     "output_type": "execute_result"
    }
   ],
   "source": [
    "Solution().countPrimes(10)"
   ]
  }
 ],
 "metadata": {
  "kernelspec": {
   "display_name": "Python 3",
   "language": "python",
   "name": "python3"
  },
  "language_info": {
   "codemirror_mode": {
    "name": "ipython",
    "version": 3
   },
   "file_extension": ".py",
   "mimetype": "text/x-python",
   "name": "python",
   "nbconvert_exporter": "python",
   "pygments_lexer": "ipython3",
   "version": "3.6.8"
  }
 },
 "nbformat": 4,
 "nbformat_minor": 2
}
