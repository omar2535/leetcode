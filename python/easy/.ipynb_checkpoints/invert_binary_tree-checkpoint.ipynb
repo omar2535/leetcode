{
 "cells": [
  {
   "cell_type": "code",
   "execution_count": 4,
   "metadata": {},
   "outputs": [],
   "source": [
    "# Definition for a binary tree node.\n",
    "class TreeNode:\n",
    "    def __init__(self, x):\n",
    "        self.val = x\n",
    "        self.left = None\n",
    "        self.right = None\n",
    "\n",
    "\n",
    "def invertTree(root: TreeNode) -> TreeNode:\n",
    "    return invertTreeRecursive(root)\n",
    "\n",
    "def invertTreeRecursive(node):\n",
    "    if(node == None or node.left == None and node.right == None):\n",
    "        return node\n",
    "    elif node.right != None and node.left == None:\n",
    "        node.left = node.right\n",
    "        node.right = None\n",
    "        invertTreeRecursive(node.left)\n",
    "    elif node.right == None and node.left != None:\n",
    "        node.right = node.left\n",
    "        node.left = None\n",
    "        invertTreeRecursive(node.right)\n",
    "    else:\n",
    "        temp = node.right\n",
    "        node.right = node.left\n",
    "        node.left = temp\n",
    "        invertTreeRecursive(node.left)\n",
    "        invertTreeRecursive(node.right)\n",
    "    return node"
   ]
  }
 ],
 "metadata": {
  "kernelspec": {
   "display_name": "Python 3",
   "language": "python",
   "name": "python3"
  },
  "language_info": {
   "codemirror_mode": {
    "name": "ipython",
    "version": 3
   },
   "file_extension": ".py",
   "mimetype": "text/x-python",
   "name": "python",
   "nbconvert_exporter": "python",
   "pygments_lexer": "ipython3",
   "version": "3.6.8"
  }
 },
 "nbformat": 4,
 "nbformat_minor": 2
}
