{
 "cells": [
  {
   "cell_type": "code",
   "execution_count": 1,
   "metadata": {},
   "outputs": [],
   "source": [
    "# Original Solution\n",
    "# Substrings of size K with K distinct chars\n",
    "\n",
    "def subStringsKDist(inputStr, num):\n",
    "    if(num > len(inputStr) or len(inputStr) == 0):\n",
    "        return []\n",
    "    if(num == 1):\n",
    "        return list(set(inputStr))\n",
    "    \n",
    "    list_of_substrings = []\n",
    "    \n",
    "    \n",
    "    for index in range(0, len(inputStr) - num+1):\n",
    "        \n",
    "        current_substring = \"\"\n",
    "        \n",
    "        for i in range(0, num):\n",
    "            if (inputStr[index + i] in current_substring):\n",
    "                break\n",
    "            \n",
    "            elif (i == num-1 and current_substring != \"\"):\n",
    "                current_substring += inputStr[index + i]\n",
    "                if(current_substring not in list_of_substrings):\n",
    "                    list_of_substrings += [current_substring]\n",
    "            else:\n",
    "                current_substring += inputStr[index + i]\n",
    "    \n",
    "    return list_of_substrings"
   ]
  },
  {
   "cell_type": "code",
   "execution_count": 4,
   "metadata": {},
   "outputs": [
    {
     "data": {
      "text/plain": [
       "['AB', 'BC', 'CD']"
      ]
     },
     "execution_count": 4,
     "metadata": {},
     "output_type": "execute_result"
    }
   ],
   "source": [
    "subStringsKDist(\"ABCD\", 2)\n",
    "\n",
    "\n",
    "\n",
    "\n",
    "\n",
    "\n",
    "\n",
    "\n",
    "\n",
    "\n",
    "\n",
    "\n",
    "\n",
    "\n",
    "\n",
    "\n",
    "\n",
    "\n",
    "\n",
    "\n",
    "\n",
    "\n",
    "\n",
    "\n"
   ]
  },
  {
   "cell_type": "code",
   "execution_count": null,
   "metadata": {},
   "outputs": [],
   "source": [
    "def subStringsKDist(inputStr, num):\n",
    "    if(len(inputStr) < num):\n",
    "        return "
   ]
  }
 ],
 "metadata": {
  "kernelspec": {
   "display_name": "Python 3",
   "language": "python",
   "name": "python3"
  },
  "language_info": {
   "codemirror_mode": {
    "name": "ipython",
    "version": 3
   },
   "file_extension": ".py",
   "mimetype": "text/x-python",
   "name": "python",
   "nbconvert_exporter": "python",
   "pygments_lexer": "ipython3",
   "version": "3.6.8"
  }
 },
 "nbformat": 4,
 "nbformat_minor": 2
}
