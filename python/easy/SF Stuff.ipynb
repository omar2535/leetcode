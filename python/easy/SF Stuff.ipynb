{
 "cells": [
  {
   "cell_type": "code",
   "execution_count": 2,
   "metadata": {},
   "outputs": [],
   "source": [
    "import math"
   ]
  },
  {
   "cell_type": "code",
   "execution_count": 21,
   "metadata": {},
   "outputs": [],
   "source": [
    "def maxMin(operations, x):\n",
    "    total_array = []\n",
    "    products = []\n",
    "    for i in range(0, len(x)):\n",
    "        current_number = x[i]\n",
    "        current_operation = operations[i]\n",
    "        if(current_operation == 'push'):\n",
    "            total_array += [current_number]\n",
    "        elif(current_operation == 'pop'):\n",
    "            total_array.remove(current_number)\n",
    "        products += [compute(total_array)]\n",
    "    return products\n",
    "\n",
    "def compute(total_array):\n",
    "    return max(total_array) * min(total_array)"
   ]
  },
  {
   "cell_type": "code",
   "execution_count": 22,
   "metadata": {},
   "outputs": [],
   "source": [
    "a = maxMin(['push', 'push', 'push', 'pop'], [1,2,3,1])"
   ]
  },
  {
   "cell_type": "code",
   "execution_count": 23,
   "metadata": {},
   "outputs": [
    {
     "name": "stdout",
     "output_type": "stream",
     "text": [
      "[1, 2, 3, 6]\n"
     ]
    }
   ],
   "source": [
    "print(a)"
   ]
  },
  {
   "cell_type": "code",
   "execution_count": 15,
   "metadata": {},
   "outputs": [
    {
     "name": "stdout",
     "output_type": "stream",
     "text": [
      "None\n"
     ]
    }
   ],
   "source": [
    "print(a)"
   ]
  },
  {
   "cell_type": "code",
   "execution_count": 52,
   "metadata": {},
   "outputs": [],
   "source": [
    "import sys\n",
    "def isPossible(a, b, c, d):\n",
    "    sys.setrecursionlimit(1500)\n",
    "    if (isPossibleRec(a,b,c,d)):\n",
    "        return \"Yes\"\n",
    "    else:\n",
    "        return \"No\"\n",
    "\n",
    "def isPossibleRec(a,b,c,d):\n",
    "    if(a > c or b > d):\n",
    "        return False\n",
    "    elif(a == c and b == d):\n",
    "        return True\n",
    "    else:\n",
    "        return isPossibleRec(a, a+b, c, d) or isPossibleRec(a+b, b, c, d)"
   ]
  },
  {
   "cell_type": "code",
   "execution_count": 53,
   "metadata": {},
   "outputs": [
    {
     "name": "stdout",
     "output_type": "stream",
     "text": [
      "Yes\n",
      "True\n",
      "No\n",
      "False\n"
     ]
    }
   ],
   "source": [
    "print(isPossible(1,4,5,9))\n",
    "print(isPossibleRec(1,4,5,9))\n",
    "print(isPossible(1,2,3,6))\n",
    "print(isPossibleRec(1,2,3,6))"
   ]
  },
  {
   "cell_type": "code",
   "execution_count": 49,
   "metadata": {},
   "outputs": [
    {
     "data": {
      "text/plain": [
       "'True'"
      ]
     },
     "execution_count": 49,
     "metadata": {},
     "output_type": "execute_result"
    }
   ],
   "source": [
    "str(True)\n"
   ]
  },
  {
   "cell_type": "code",
   "execution_count": null,
   "metadata": {},
   "outputs": [],
   "source": [
    "def isPossible(a, b, c, d):\n",
    "    while(a < c and b < d):\n",
    "        "
   ]
  }
 ],
 "metadata": {
  "kernelspec": {
   "display_name": "python3.7",
   "language": "python",
   "name": "python3.7"
  },
  "language_info": {
   "codemirror_mode": {
    "name": "ipython",
    "version": 2
   },
   "file_extension": ".py",
   "mimetype": "text/x-python",
   "name": "python",
   "nbconvert_exporter": "python",
   "pygments_lexer": "ipython2",
   "version": "2.7.14"
  }
 },
 "nbformat": 4,
 "nbformat_minor": 2
}
