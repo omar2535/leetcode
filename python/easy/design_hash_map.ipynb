{
 "cells": [
  {
   "cell_type": "code",
   "execution_count": 1,
   "metadata": {},
   "outputs": [],
   "source": [
    "class MyHashMap:\n",
    "    \n",
    "    data = None\n",
    "    size = 0\n",
    "    \n",
    "    def __init__(self):\n",
    "        \"\"\"\n",
    "        Initialize your data structure here.\n",
    "        \"\"\"\n",
    "        self.size = 10000\n",
    "        self.data = [None]*self.size\n",
    "        self.total_data = 0\n",
    "\n",
    "    def put(self, key: int, value: int) -> None:\n",
    "        \"\"\"\n",
    "        value will always be non-negative.\n",
    "        \"\"\"\n",
    "        hash_key = abs(hash(key) % self.size)\n",
    "        if(self.data[hash_key]):\n",
    "            inserted = False\n",
    "            for entries in self.data[hash_key]:\n",
    "                if(entries[0] == key):\n",
    "                    entries[1] = value\n",
    "                    inserted = True\n",
    "            if(not inserted):\n",
    "                self.data[hash_key].append([key,value])\n",
    "        else:\n",
    "            self.data[hash_key] = [[key,value]]\n",
    "        self.total_data += 1\n",
    "\n",
    "    def get(self, key: int) -> int:\n",
    "        \"\"\"\n",
    "        Returns the value to which the specified key is mapped, or -1 if this map contains no mapping for the key\n",
    "        \"\"\"\n",
    "        key = abs(hash(key) % self.size)\n",
    "        hash_entry = self.data[key]\n",
    "        if(hash_entry):\n",
    "            for entry in hash_entry:\n",
    "                if(entry[0] == key):\n",
    "                    return entry[1]\n",
    "        else:\n",
    "            return -1\n",
    "                    \n",
    "\n",
    "    def remove(self, key: int) -> None:\n",
    "        \"\"\"\n",
    "        Removes the mapping of the specified value key if this map contains a mapping for the key\n",
    "        \"\"\"\n",
    "        hash_key = abs(hash(key) % self.size)\n",
    "        if(self.data[hash_key]):\n",
    "            index_to_remove = -1\n",
    "            for i in range(0, len(self.data[hash_key])):\n",
    "                if(self.data[hash_key][i][0] == key):\n",
    "                    index_to_remove = i\n",
    "            if(index_to_remove != -1):\n",
    "                del self.data[hash_key][index_to_remove]\n",
    "                self.total_data -= 1\n",
    "\n",
    "\n",
    "# Your MyHashMap object will be instantiated and called as such:\n",
    "# obj = MyHashMap()\n",
    "# obj.put(key,value)\n",
    "# param_2 = obj.get(key)\n",
    "# obj.remove(key)"
   ]
  },
  {
   "cell_type": "code",
   "execution_count": 2,
   "metadata": {},
   "outputs": [],
   "source": [
    "hashMap = MyHashMap()\n",
    "hashMap.put(1, 1)\n",
    "     "
   ]
  },
  {
   "cell_type": "code",
   "execution_count": 3,
   "metadata": {},
   "outputs": [],
   "source": [
    "hashMap.put(2, 2)       \n"
   ]
  },
  {
   "cell_type": "code",
   "execution_count": 4,
   "metadata": {},
   "outputs": [
    {
     "data": {
      "text/plain": [
       "1"
      ]
     },
     "execution_count": 4,
     "metadata": {},
     "output_type": "execute_result"
    }
   ],
   "source": [
    "hashMap.get(1)        \n",
    " "
   ]
  },
  {
   "cell_type": "code",
   "execution_count": 5,
   "metadata": {},
   "outputs": [
    {
     "data": {
      "text/plain": [
       "-1"
      ]
     },
     "execution_count": 5,
     "metadata": {},
     "output_type": "execute_result"
    }
   ],
   "source": [
    "hashMap.get(3)       \n"
   ]
  },
  {
   "cell_type": "code",
   "execution_count": 6,
   "metadata": {},
   "outputs": [],
   "source": [
    "hashMap.put(2, 1)       \n"
   ]
  },
  {
   "cell_type": "code",
   "execution_count": 7,
   "metadata": {},
   "outputs": [
    {
     "data": {
      "text/plain": [
       "1"
      ]
     },
     "execution_count": 7,
     "metadata": {},
     "output_type": "execute_result"
    }
   ],
   "source": [
    "hashMap.get(2)\n"
   ]
  },
  {
   "cell_type": "code",
   "execution_count": 8,
   "metadata": {},
   "outputs": [],
   "source": [
    "hashMap.remove(2)    \n"
   ]
  },
  {
   "cell_type": "code",
   "execution_count": 9,
   "metadata": {},
   "outputs": [
    {
     "data": {
      "text/plain": [
       "-1"
      ]
     },
     "execution_count": 9,
     "metadata": {},
     "output_type": "execute_result"
    }
   ],
   "source": [
    "hashMap.get(2)  "
   ]
  }
 ],
 "metadata": {
  "kernelspec": {
   "display_name": "Python 3",
   "language": "python",
   "name": "python3"
  },
  "language_info": {
   "codemirror_mode": {
    "name": "ipython",
    "version": 3
   },
   "file_extension": ".py",
   "mimetype": "text/x-python",
   "name": "python",
   "nbconvert_exporter": "python",
   "pygments_lexer": "ipython3",
   "version": "3.6.8"
  }
 },
 "nbformat": 4,
 "nbformat_minor": 2
}
