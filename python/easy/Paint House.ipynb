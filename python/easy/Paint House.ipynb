{
 "cells": [
  {
   "cell_type": "code",
   "execution_count": 1,
   "metadata": {},
   "outputs": [
    {
     "ename": "ImportError",
     "evalue": "No module named ipdb",
     "output_type": "error",
     "traceback": [
      "\u001b[1;31m---------------------------------------------------------------------------\u001b[0m",
      "\u001b[1;31mImportError\u001b[0m                               Traceback (most recent call last)",
      "\u001b[1;32m<ipython-input-1-b16bba65ac70>\u001b[0m in \u001b[0;36m<module>\u001b[1;34m()\u001b[0m\n\u001b[0;32m      1\u001b[0m \u001b[1;32mimport\u001b[0m \u001b[0mpdb\u001b[0m\u001b[1;33m\u001b[0m\u001b[0m\n\u001b[1;32m----> 2\u001b[1;33m \u001b[1;32mimport\u001b[0m \u001b[0mipdb\u001b[0m\u001b[1;33m\u001b[0m\u001b[0m\n\u001b[0m",
      "\u001b[1;31mImportError\u001b[0m: No module named ipdb"
     ]
    }
   ],
   "source": [
    "import pdb"
   ]
  },
  {
   "cell_type": "code",
   "execution_count": 48,
   "metadata": {},
   "outputs": [],
   "source": [
    "def minCost(costs):\n",
    "    \"\"\"\n",
    "    :type costs: List[List[int]]\n",
    "    :rtype: int\n",
    "    \"\"\"\n",
    "    if len(costs) == 0: return 0\n",
    "    last_color = costs[0].index(min(costs[0]))\n",
    "    total_sum = min(costs[0])\n",
    "    print('first_color:', last_color)\n",
    "    print('initial_value:', total_sum)\n",
    "    print(\"_________________________\")\n",
    "    for cost in costs[1::]:\n",
    "        sum_of_red = total_sum + cost[0]\n",
    "        sum_of_blue = total_sum + cost[1]\n",
    "        sum_of_green = total_sum + cost[2]\n",
    "        if(last_color == 0):\n",
    "            if(sum_of_blue <= sum_of_green):\n",
    "                total_sum += cost[1]\n",
    "                last_color = 1\n",
    "            elif(sum_of_blue >= sum_of_green):\n",
    "                total_sum += cost[2]\n",
    "                last_color = 2\n",
    "        elif(last_color == 1):\n",
    "            if(sum_of_red <= sum_of_green):\n",
    "                total_sum += cost[0]\n",
    "                last_color = 0\n",
    "            elif(sum_of_red >= sum_of_green):\n",
    "                total_sum += cost[2]\n",
    "                last_color = 2\n",
    "        elif(last_color == 2):\n",
    "            if(sum_of_red <= sum_of_blue):\n",
    "                total_sum += cost[0]\n",
    "                last_color = 0\n",
    "            elif(sum_of_red >= sum_of_blue):\n",
    "                total_sum += cost[1]\n",
    "                last_color = 1\n",
    "        print(\"last_color:\", last_color)\n",
    "        print(\"added number:\", cost[last_color])\n",
    "        print(\"total_sum:\", total_sum)\n",
    "        print(\"_________________________\")\n",
    "    return total_sum"
   ]
  },
  {
   "cell_type": "code",
   "execution_count": 36,
   "metadata": {},
   "outputs": [
    {
     "data": {
      "text/plain": [
       "10"
      ]
     },
     "execution_count": 36,
     "metadata": {},
     "output_type": "execute_result"
    }
   ],
   "source": [
    "minCost([[17,2,17],[16,16,5],[14,3,19]])"
   ]
  },
  {
   "cell_type": "code",
   "execution_count": 49,
   "metadata": {},
   "outputs": [
    {
     "name": "stdout",
     "output_type": "stream",
     "text": [
      "('first_color:', 0)\n",
      "('initial_value:', 5)\n",
      "_________________________\n",
      "('last_color:', 2)\n",
      "('added number:', 13)\n",
      "('total_sum:', 18)\n",
      "_________________________\n",
      "('last_color:', 1)\n",
      "('added number:', 5)\n",
      "('total_sum:', 23)\n",
      "_________________________\n",
      "('last_color:', 0)\n",
      "('added number:', 14)\n",
      "('total_sum:', 37)\n",
      "_________________________\n",
      "('last_color:', 2)\n",
      "('added number:', 10)\n",
      "('total_sum:', 47)\n",
      "_________________________\n"
     ]
    },
    {
     "data": {
      "text/plain": [
       "47"
      ]
     },
     "execution_count": 49,
     "metadata": {},
     "output_type": "execute_result"
    }
   ],
   "source": [
    "minCost([[5,8,6],[19,14,13],[7,5,12],[14,15,17],[3,20,10]])"
   ]
  },
  {
   "cell_type": "code",
   "execution_count": 20,
   "metadata": {},
   "outputs": [
    {
     "data": {
      "text/plain": [
       "[2, 3, 4, 5, 6]"
      ]
     },
     "execution_count": 20,
     "metadata": {},
     "output_type": "execute_result"
    }
   ],
   "source": [
    "a[1::]"
   ]
  },
  {
   "cell_type": "code",
   "execution_count": null,
   "metadata": {},
   "outputs": [],
   "source": [
    "row "
   ]
  }
 ],
 "metadata": {
  "kernelspec": {
   "display_name": "python3.7",
   "language": "python",
   "name": "python3.7"
  },
  "language_info": {
   "codemirror_mode": {
    "name": "ipython",
    "version": 2
   },
   "file_extension": ".py",
   "mimetype": "text/x-python",
   "name": "python",
   "nbconvert_exporter": "python",
   "pygments_lexer": "ipython2",
   "version": "2.7.14"
  }
 },
 "nbformat": 4,
 "nbformat_minor": 2
}
