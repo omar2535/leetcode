{
 "cells": [
  {
   "cell_type": "code",
   "execution_count": 5,
   "metadata": {},
   "outputs": [],
   "source": [
    "class TreeNode:\n",
    "    def __init__(self, x):\n",
    "        self.val = x\n",
    "        self.left = None\n",
    "        self.right = None\n",
    "\n",
    "def median_of_BST(node):\n",
    "    count = med_of_BST_recurse_for_count(node)\n",
    "    node_location = (count+1)/2\n",
    "    if(count % 2 == 0):\n",
    "        node_location = ((count/2) + (count+1)/2)/2\n",
    "    \n",
    "\n",
    "def med_of_BST_recurse_for_count(node):\n",
    "        if(node == None):\n",
    "            return 0\n",
    "        else:\n",
    "            return 1 + med_of_BST_recurse_for_count(node.left) + med_of_BST_recurse_for_count(node.right)\n",
    "    \n",
    "        \n",
    "def med_of_BST_recurse(bst, stop_at):\n",
    "    if(left.val == right.val):\n",
    "        pass"
   ]
  },
  {
   "cell_type": "code",
   "execution_count": 6,
   "metadata": {},
   "outputs": [
    {
     "data": {
      "text/plain": [
       "5"
      ]
     },
     "execution_count": 6,
     "metadata": {},
     "output_type": "execute_result"
    }
   ],
   "source": [
    "root = TreeNode(2)\n",
    "root.left = TreeNode(1)\n",
    "root.right = TreeNode(3)\n",
    "root.left.left = TreeNode(-5)\n",
    "root.left.right = TreeNode(-3)\n",
    "med_of_BST_recurse_for_count(root)\n"
   ]
  }
 ],
 "metadata": {
  "kernelspec": {
   "display_name": "Python 3",
   "language": "python",
   "name": "python3"
  },
  "language_info": {
   "codemirror_mode": {
    "name": "ipython",
    "version": 3
   },
   "file_extension": ".py",
   "mimetype": "text/x-python",
   "name": "python",
   "nbconvert_exporter": "python",
   "pygments_lexer": "ipython3",
   "version": "3.6.8"
  }
 },
 "nbformat": 4,
 "nbformat_minor": 2
}
