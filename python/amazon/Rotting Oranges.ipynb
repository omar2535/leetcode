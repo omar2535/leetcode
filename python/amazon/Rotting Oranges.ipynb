{
 "cells": [
  {
   "cell_type": "code",
   "execution_count": null,
   "metadata": {},
   "outputs": [],
   "source": [
    "from typing import List\n",
    "\n",
    "class Solution:\n",
    "    def orangesRotting(self, grid: List[List[int]]) -> int:\n",
    "        rows = len(grid)\n",
    "        cols = len(grid[0])\n",
    "        \n",
    "        min_minutes = -1\n",
    "        for i in range(0, rows):\n",
    "            for j in range(0, cols):\n",
    "                if(grid[i][j] == 2):\n",
    "                    minutes_taken = BFS(grid, i, j, 0)\n",
    "                    if(min_minutes == -1 or min_minutes >= minutes_taken):\n",
    "                        min_minutes = minutes_taken\n",
    "        \n",
    "        \n",
    "    def BFS(self, grid, i, j, minutes):\n",
    "        if(grid[i][j] != 2):\n",
    "            grid[i][j] = 3\n",
    "            self.BFS(grid, i, j, minutes+1)"
   ]
  }
 ],
 "metadata": {
  "kernelspec": {
   "display_name": "Python 3",
   "language": "python",
   "name": "python3"
  },
  "language_info": {
   "codemirror_mode": {
    "name": "ipython",
    "version": 3
   },
   "file_extension": ".py",
   "mimetype": "text/x-python",
   "name": "python",
   "nbconvert_exporter": "python",
   "pygments_lexer": "ipython3",
   "version": "3.6.8"
  }
 },
 "nbformat": 4,
 "nbformat_minor": 2
}
