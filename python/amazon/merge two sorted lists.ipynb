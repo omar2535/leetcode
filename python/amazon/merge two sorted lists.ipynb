{
 "cells": [
  {
   "cell_type": "code",
   "execution_count": null,
   "metadata": {},
   "outputs": [],
   "source": [
    "# Definition for singly-linked list.\n",
    "# Input: 1->5->7->9, 2->3->4->5\n",
    "# Output: 1->1->2->3->4->4\n",
    "\n",
    "class ListNode:\n",
    "    def __init__(self, x):\n",
    "        self.val = x\n",
    "        self.next = None\n",
    "\n",
    "class Solution:\n",
    "    def mergeTwoLists(self, l1: ListNode, l2: ListNode) -> ListNode:\n",
    "        if(l1 == None):\n",
    "            return l2\n",
    "        elif(l2 == None):\n",
    "            return l1\n",
    "        \n",
    "        i1 = l1\n",
    "        i2 = l2\n",
    "        \n",
    "        while(i1 != None):\n",
    "            temp_i1_next = i1.next\n",
    "            temp_i2_next = i2.next\n",
    "            while(i2 != None and i2.val >= i1.val and temp_i1_next != None and i2.val <= temp_i1_next):\n",
    "                i1.next = i2\n",
    "                temp_i2_next = i2.next\n",
    "                i2 = i2.next\n",
    "            temp_i2_next.next = temp_i1_next\n",
    "            i1 = temp_1_next\n",
    "        \n",
    "            \n",
    "        return l1"
   ]
  },
  {
   "cell_type": "code",
   "execution_count": null,
   "metadata": {},
   "outputs": [],
   "source": [
    "l1 = ListNode(1)\n",
    "l1.next = ListNode(2)\n",
    "l1.next.next = ListNode(3)\n",
    "\n",
    "l2 = ListNode(1)\n",
    "l2.next = ListNode(3)\n",
    "l2.next.next = ListNode(4)\n",
    "\n",
    "\n",
    "res = Solution().mergeTwoLists(l1, l2)\n",
    "while(res):\n",
    "    print(res.val)\n",
    "    res = res.next"
   ]
  }
 ],
 "metadata": {
  "kernelspec": {
   "display_name": "Python 3",
   "language": "python",
   "name": "python3"
  },
  "language_info": {
   "codemirror_mode": {
    "name": "ipython",
    "version": 3
   },
   "file_extension": ".py",
   "mimetype": "text/x-python",
   "name": "python",
   "nbconvert_exporter": "python",
   "pygments_lexer": "ipython3",
   "version": "3.6.8"
  }
 },
 "nbformat": 4,
 "nbformat_minor": 2
}
