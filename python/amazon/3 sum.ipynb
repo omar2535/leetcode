{
 "cells": [
  {
   "cell_type": "code",
   "execution_count": 48,
   "metadata": {},
   "outputs": [],
   "source": [
    "from typing import List\n",
    "\n",
    "# Brute Force Attempt\n",
    "class Solution:\n",
    "    def threeSum(self, nums: List[int]) -> List[List[int]]:\n",
    "        list_of_solutions = []\n",
    "        \n",
    "        for i in range(0,len(nums)):\n",
    "            a = nums[i]\n",
    "            sub_a_array = nums[0:i] + nums[i+1:]\n",
    "            for j in range(0,len(sub_a_array)):\n",
    "                b = sub_a_array[j]\n",
    "                sub_b_array = sub_a_array[0:j] + sub_a_array[j+1:]\n",
    "                for k in range(0, len(sub_b_array)):\n",
    "                    c = sub_b_array[k]\n",
    "                    if(a + b + c == 0):\n",
    "                        list_of_solutions.append([a,b,c])\n",
    "        return self.filter_list_of_solutions(list_of_solutions)\n",
    "    \n",
    "    def filter_list_of_solutions(self, list_of_solutions):\n",
    "        seen_list = []\n",
    "        num_nones = 0\n",
    "        for solution in list_of_solutions:\n",
    "            solution.sort()\n",
    "        for i in range(0, len(list_of_solutions)):\n",
    "            if(list_of_solutions[i] in seen_list):\n",
    "                list_of_solutions[i] = None\n",
    "                num_nones += 1\n",
    "            else:\n",
    "                seen_list.append(list_of_solutions[i])\n",
    "        for i in range(0, num_nones):\n",
    "            list_of_solutions.remove(None)\n",
    "        return list_of_solutions"
   ]
  },
  {
   "cell_type": "code",
   "execution_count": 49,
   "metadata": {},
   "outputs": [
    {
     "data": {
      "text/plain": [
       "[[-1, 0, 1], [-1, -1, 2]]"
      ]
     },
     "execution_count": 49,
     "metadata": {},
     "output_type": "execute_result"
    }
   ],
   "source": [
    "Solution().threeSum([-1, 0, 1, 2, -1, -4])"
   ]
  },
  {
   "cell_type": "code",
   "execution_count": null,
   "metadata": {},
   "outputs": [],
   "source": [
    "from typing import List\n",
    "\n",
    "# Optimization attempt\n",
    "class Solution:\n",
    "    def threeSum(self, nums: List[int]) -> List[List[int]]:\n",
    "        list_of_solutions = []\n",
    "        \n",
    "        for i in range(0,len(nums)):\n",
    "            a = nums[i]\n",
    "            sub_a_array = nums[0:i] + nums[i+1:]\n",
    "            for j in range(0,len(sub_a_array)):\n",
    "                b = sub_a_array[j]\n",
    "                sub_b_array = sub_a_array[0:j] + sub_a_array[j+1:]\n",
    "                for k in range(0, len(sub_b_array)):\n",
    "                    c = sub_b_array[k]\n",
    "                    if(a + b + c == 0):\n",
    "                        list_of_solutions.append([a,b,c])\n",
    "        return self.filter_list_of_solutions(list_of_solutions)\n",
    "    \n",
    "    def filter_list_of_solutions(self, list_of_solutions):\n",
    "        seen_list = []\n",
    "        num_nones = 0\n",
    "        for solution in list_of_solutions:\n",
    "            solution.sort()\n",
    "        for i in range(0, len(list_of_solutions)):\n",
    "            if(list_of_solutions[i] in seen_list):\n",
    "                list_of_solutions[i] = None\n",
    "                num_nones += 1\n",
    "            else:\n",
    "                seen_list.append(list_of_solutions[i])\n",
    "        for i in range(0, num_nones):\n",
    "            list_of_solutions.remove(None)\n",
    "        return list_of_solutions"
   ]
  }
 ],
 "metadata": {
  "kernelspec": {
   "display_name": "Python 3",
   "language": "python",
   "name": "python3"
  },
  "language_info": {
   "codemirror_mode": {
    "name": "ipython",
    "version": 3
   },
   "file_extension": ".py",
   "mimetype": "text/x-python",
   "name": "python",
   "nbconvert_exporter": "python",
   "pygments_lexer": "ipython3",
   "version": "3.6.8"
  }
 },
 "nbformat": 4,
 "nbformat_minor": 2
}
