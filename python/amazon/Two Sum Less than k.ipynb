{
 "cells": [
  {
   "cell_type": "code",
   "execution_count": 6,
   "metadata": {},
   "outputs": [],
   "source": [
    "from typing import List\n",
    "class Solution:\n",
    "    def twoSumLessThanK(self, A: List[int], K: int) -> int:\n",
    "        max_less_than_k = -1\n",
    "        for i in range(0, len(A)):\n",
    "            for j in range(i+1, len(A)):\n",
    "                if(A[i] + A[j] >= max_less_than_k and A[i] + A[j] < K):\n",
    "                    max_less_than_k = A[i] + A[j]\n",
    "        return max_less_than_k\n",
    "    \n",
    "    \n",
    "# a better way would to be to sort it first\n",
    "# then try to sum from the two ends and iterate from there"
   ]
  },
  {
   "cell_type": "code",
   "execution_count": 7,
   "metadata": {},
   "outputs": [
    {
     "data": {
      "text/plain": [
       "9"
      ]
     },
     "execution_count": 7,
     "metadata": {},
     "output_type": "execute_result"
    }
   ],
   "source": [
    "Solution().twoSumLessThanK([1,2,3,4,5],10)"
   ]
  }
 ],
 "metadata": {
  "kernelspec": {
   "display_name": "Python 3",
   "language": "python",
   "name": "python3"
  },
  "language_info": {
   "codemirror_mode": {
    "name": "ipython",
    "version": 3
   },
   "file_extension": ".py",
   "mimetype": "text/x-python",
   "name": "python",
   "nbconvert_exporter": "python",
   "pygments_lexer": "ipython3",
   "version": "3.6.8"
  }
 },
 "nbformat": 4,
 "nbformat_minor": 2
}
