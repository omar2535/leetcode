{
 "cells": [
  {
   "cell_type": "code",
   "execution_count": 64,
   "metadata": {},
   "outputs": [],
   "source": [
    "from typing import List\n",
    "# Definition for singly-linked list.\n",
    "class ListNode:\n",
    "    def __init__(self, x):\n",
    "        self.val = x\n",
    "        self.next = None\n",
    "\n",
    "class Solution:\n",
    "    def addTwoNumbers(self, l1: ListNode, l2: ListNode) -> ListNode:\n",
    "        if(l1 == None or l2 == None):\n",
    "            return None\n",
    "        arr1 = \"\"\n",
    "        arr2 = \"\"\n",
    "        while(l1 != None):\n",
    "            arr1 += str(l1.val)\n",
    "            l1 = l1.next\n",
    "        while(l2 != None):\n",
    "            arr2 += str(l2.val)\n",
    "            l2 = l2.next\n",
    "        val1 = int(arr1[::-1])\n",
    "        val2 = int(arr2[::-1])\n",
    "        result = val1 + val2\n",
    "        \n",
    "        \n",
    "        rootNode = ListNode(result % 10)\n",
    "        next_node = rootNode\n",
    "        result = result // 10\n",
    "        while(result != 0):\n",
    "            tempNode = ListNode(result % 10)\n",
    "            next_node.next = tempNode\n",
    "            result = result // 10\n",
    "            next_node = next_node.next\n",
    "        return rootNode"
   ]
  },
  {
   "cell_type": "code",
   "execution_count": 63,
   "metadata": {},
   "outputs": [
    {
     "name": "stdout",
     "output_type": "stream",
     "text": [
      "1000000000000000000000000000001 465\n",
      "1000000000000000000000000000466\n",
      "6\n",
      "6\n",
      "4\n",
      "0\n",
      "0\n",
      "0\n",
      "0\n",
      "0\n",
      "0\n",
      "0\n",
      "0\n",
      "0\n",
      "0\n",
      "0\n",
      "0\n",
      "0\n",
      "0\n",
      "0\n",
      "0\n",
      "0\n",
      "0\n",
      "0\n",
      "0\n",
      "0\n",
      "0\n",
      "0\n",
      "0\n",
      "0\n",
      "0\n",
      "0\n",
      "1\n"
     ]
    }
   ],
   "source": [
    "l1 = ListNode(1)\n",
    "lt = l1\n",
    "for i in range(0,30):\n",
    "    if(i == 29):\n",
    "        lt.next = ListNode(1)\n",
    "    else:\n",
    "        lt.next = ListNode(0)\n",
    "    lt = lt.next\n",
    "\n",
    "l2 = ListNode(5)\n",
    "l2.next = ListNode(6)\n",
    "l2.next.next = ListNode(4)\n",
    "result = Solution().addTwoNumbers(l1, l2)\n",
    "while(result != None):\n",
    "    print(result.val)\n",
    "    result = result.next"
   ]
  },
  {
   "cell_type": "code",
   "execution_count": null,
   "metadata": {},
   "outputs": [],
   "source": []
  }
 ],
 "metadata": {
  "kernelspec": {
   "display_name": "Python 3",
   "language": "python",
   "name": "python3"
  },
  "language_info": {
   "codemirror_mode": {
    "name": "ipython",
    "version": 3
   },
   "file_extension": ".py",
   "mimetype": "text/x-python",
   "name": "python",
   "nbconvert_exporter": "python",
   "pygments_lexer": "ipython3",
   "version": "3.6.8"
  }
 },
 "nbformat": 4,
 "nbformat_minor": 2
}
