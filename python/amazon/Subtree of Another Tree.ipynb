{
 "cells": [
  {
   "cell_type": "code",
   "execution_count": 40,
   "metadata": {},
   "outputs": [],
   "source": [
    "# Definition for a binary tree node.\n",
    "class TreeNode:\n",
    "    def __init__(self, x):\n",
    "        self.val = x\n",
    "        self.left = None\n",
    "        self.right = None\n",
    "\n",
    "class Solution:\n",
    "    def isSubtree(self, s: TreeNode, t: TreeNode) -> bool:\n",
    "        if (s == None and t != None or t == None and s != None):\n",
    "            return False\n",
    "        elif(s == None and t == None):\n",
    "            return True\n",
    "        elif(s.val == t.val):\n",
    "            return (self.checkSubtree(s, t)\n",
    "                     or self.isSubtree(s.left, t)\n",
    "                     or self.isSubtree(s.right,t))\n",
    "        else:\n",
    "            return self.isSubtree(s.left, t) or self.isSubtree(s.right, t)\n",
    "        \n",
    "    def checkSubtree(self, s, t):\n",
    "        if (s == None and t != None or t == None and s != None):\n",
    "            return False\n",
    "        elif(s == None and t == None):\n",
    "            return True\n",
    "        elif(s.val != t.val):\n",
    "            return False\n",
    "        else:\n",
    "            return (True and self.checkSubtree(s.left, t.left) and self.checkSubtree(s.right,t.right))"
   ]
  },
  {
   "cell_type": "code",
   "execution_count": 41,
   "metadata": {},
   "outputs": [
    {
     "data": {
      "text/plain": [
       "True"
      ]
     },
     "execution_count": 41,
     "metadata": {},
     "output_type": "execute_result"
    }
   ],
   "source": [
    "root = TreeNode(1)\n",
    "root.left = TreeNode(2)\n",
    "root.right = TreeNode(3)\n",
    "root.left.left = TreeNode(4)\n",
    "root.left.right = TreeNode(5)\n",
    "\n",
    "t = TreeNode(2)\n",
    "t.left = TreeNode(4)\n",
    "t.right = TreeNode(5)\n",
    "\n",
    "Solution().isSubtree(root, t)"
   ]
  },
  {
   "cell_type": "code",
   "execution_count": 42,
   "metadata": {},
   "outputs": [
    {
     "data": {
      "text/plain": [
       "True"
      ]
     },
     "execution_count": 42,
     "metadata": {},
     "output_type": "execute_result"
    }
   ],
   "source": [
    "root = TreeNode(1)\n",
    "root.right = TreeNode(1)\n",
    "\n",
    "t = TreeNode(1)\n",
    "\n",
    "Solution().isSubtree(root, t)"
   ]
  }
 ],
 "metadata": {
  "kernelspec": {
   "display_name": "Python 3",
   "language": "python",
   "name": "python3"
  },
  "language_info": {
   "codemirror_mode": {
    "name": "ipython",
    "version": 3
   },
   "file_extension": ".py",
   "mimetype": "text/x-python",
   "name": "python",
   "nbconvert_exporter": "python",
   "pygments_lexer": "ipython3",
   "version": "3.6.8"
  }
 },
 "nbformat": 4,
 "nbformat_minor": 2
}
