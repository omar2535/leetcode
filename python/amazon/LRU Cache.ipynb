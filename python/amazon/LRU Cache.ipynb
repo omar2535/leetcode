{
 "cells": [
  {
   "cell_type": "code",
   "execution_count": 77,
   "metadata": {},
   "outputs": [],
   "source": [
    "class LRUCache:\n",
    "\n",
    "    cache = {}\n",
    "    use_history = []\n",
    "    capacity = 0\n",
    "    def __init__(self, capacity: int):\n",
    "        self.capacity = capacity\n",
    "        self.cache = {}\n",
    "        self.use_history = []\n",
    "\n",
    "    def get(self, key: int) -> int:\n",
    "        if(key in self.cache):\n",
    "            self.update_usage(key)\n",
    "            return self.cache[key]\n",
    "        else:\n",
    "            return -1\n",
    "\n",
    "    def put(self, key: int, value: int) -> None:\n",
    "        if(key in self.cache):\n",
    "            self.cache[key] = value\n",
    "            self.update_usage(key)\n",
    "        elif(len(self.cache) == self.capacity):\n",
    "            del self.cache[self.use_history[len(self.use_history)-1][0]]\n",
    "            self.use_history = self.use_history[0:-1]\n",
    "            self.cache[key] = value\n",
    "            self.update_usage(key)\n",
    "        else:\n",
    "            self.cache[key] = value\n",
    "            self.update_usage(key)\n",
    "            \n",
    "    \n",
    "    def update_usage(self, key: int) -> None:\n",
    "        if([key] in self.use_history):\n",
    "            latest_used = self.use_history.index([key])\n",
    "            self.use_history = [self.use_history[latest_used]] + self.use_history[0:latest_used] + self.use_history[latest_used+1:]\n",
    "            # move to front of array\n",
    "        else:\n",
    "            self.use_history = [[key]] + self.use_history\n",
    "        \n",
    "        \n",
    "        \n",
    "\n",
    "# Your LRUCache object will be instantiated and called as such:\n",
    "# obj = LRUCache(capacity)\n",
    "# param_1 = obj.get(key)\n",
    "# obj.put(key,value)"
   ]
  },
  {
   "cell_type": "code",
   "execution_count": 79,
   "metadata": {},
   "outputs": [
    {
     "name": "stdout",
     "output_type": "stream",
     "text": [
      "None\n",
      "None\n",
      "5\n",
      "None\n",
      "1\n",
      "None\n",
      "10\n",
      "1\n",
      "-1\n",
      "5\n",
      "10\n",
      "-1\n"
     ]
    }
   ],
   "source": [
    "cache = LRUCache(2)\n",
    "print(cache.put(5, 3))\n",
    "print(cache.put(3, 5))\n",
    "print(cache.get(3))\n",
    "print(cache.put(3,1))\n",
    "print(cache.get(3))\n",
    "print(cache.put(2, 10))\n",
    "print(cache.get(2))\n",
    "print(cache.get(3))\n",
    "print(cache.get(5))\n",
    "cache.put(2,5)\n",
    "cache.put(10,10)\n",
    "print(cache.get(2))\n",
    "print(cache.get(10))\n",
    "print(cache.get(3))"
   ]
  }
 ],
 "metadata": {
  "kernelspec": {
   "display_name": "Python 3",
   "language": "python",
   "name": "python3"
  },
  "language_info": {
   "codemirror_mode": {
    "name": "ipython",
    "version": 3
   },
   "file_extension": ".py",
   "mimetype": "text/x-python",
   "name": "python",
   "nbconvert_exporter": "python",
   "pygments_lexer": "ipython3",
   "version": "3.6.8"
  }
 },
 "nbformat": 4,
 "nbformat_minor": 2
}
