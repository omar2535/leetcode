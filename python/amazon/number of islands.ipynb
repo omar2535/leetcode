{
 "cells": [
  {
   "cell_type": "code",
   "execution_count": 3,
   "metadata": {},
   "outputs": [],
   "source": [
    "from typing import List\n",
    "\n",
    "class Solution:\n",
    "    def numIslands(self, grid: List[List[str]]) -> int:\n",
    "        if(len(grid) == 0):\n",
    "            return 0\n",
    "        rows = len(grid)\n",
    "        cols = len(grid[0])\n",
    "        \n",
    "        num_islands = 0\n",
    "        \n",
    "        # setup reference grid to keep track of which points belong to which island\n",
    "        reference_grid_rows = [0] * cols\n",
    "        reference_grid = []\n",
    "        for i in range(0, rows):\n",
    "            reference_grid.append(reference_grid_rows)\n",
    "        \n",
    "        \n",
    "        for i in range(0, rows):\n",
    "            for j in range(0, cols):\n",
    "                if(grid[i][j] == 1):\n",
    "                    if(i == 0 and j == 0):\n",
    "                        num_islands += 1\n",
    "                        reference_grid[i][j] = num_islands\n",
    "                    elif(i == 0):\n",
    "                        left = reference_grid[i][j-1]\n",
    "                        right = reference_grid[i][j+1]\n",
    "                        if(left != 0):\n",
    "                            reference_grid[i][j] = left\n",
    "                        elif(right != 0):\n",
    "                            reference_grid[i][j] = right\n",
    "                    elif(j == 0):\n",
    "                        right = reference_grid[i][j+1]\n",
    "                        up = reference_grid[i-1][j]\n",
    "                        if(right != 0):\n",
    "                            reference_grid[i][j] = right\n",
    "                        elif(up != 0):\n",
    "                            reference_grid[i][j] = up\n",
    "                    elif(j == cols-1):\n",
    "                        \n",
    "                    else:\n",
    "                        \n",
    "                            \n",
    "            "
   ]
  },
  {
   "cell_type": "code",
   "execution_count": 5,
   "metadata": {},
   "outputs": [
    {
     "name": "stdout",
     "output_type": "stream",
     "text": [
      "[[0, 0, 0, 0, 0], [0, 0, 0, 0, 0], [0, 0, 0, 0, 0], [0, 0, 0, 0, 0]]\n"
     ]
    }
   ],
   "source": [
    "Solution().numIslands([[1,1,1,1,0],[1,1,0,1,0],[1,1,0,0,0],[0,0,0,0,0]])"
   ]
  }
 ],
 "metadata": {
  "kernelspec": {
   "display_name": "Python 3",
   "language": "python",
   "name": "python3"
  },
  "language_info": {
   "codemirror_mode": {
    "name": "ipython",
    "version": 3
   },
   "file_extension": ".py",
   "mimetype": "text/x-python",
   "name": "python",
   "nbconvert_exporter": "python",
   "pygments_lexer": "ipython3",
   "version": "3.6.8"
  }
 },
 "nbformat": 4,
 "nbformat_minor": 2
}
