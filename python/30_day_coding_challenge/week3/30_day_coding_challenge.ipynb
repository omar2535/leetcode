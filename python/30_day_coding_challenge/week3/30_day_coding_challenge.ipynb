{
 "cells": [
  {
   "cell_type": "code",
   "execution_count": 52,
   "metadata": {},
   "outputs": [],
   "source": [
    "from typing import List\n",
    "class Solution:\n",
    "    # special cases of zeros\n",
    "    def productExceptSelf(self, nums: List[int]) -> List[int]:\n",
    "        total_product = 1\n",
    "        total_product_without_zero = 1\n",
    "        had_zero = False\n",
    "        index_of_zero = 0\n",
    "\n",
    "        for index in range(0, len(nums)):\n",
    "            num = nums[index]\n",
    "            total_product *= num\n",
    "            if(num != 0):\n",
    "                total_product_without_zero *= num\n",
    "            else:\n",
    "                if(had_zero):\n",
    "                    total_product_without_zero *= num\n",
    "                had_zero = True\n",
    "                index_of_zero = index\n",
    "            \n",
    "        for index in range(0, len(nums)):\n",
    "            if(nums[index] != 0):\n",
    "                nums[index] = int(total_product / nums[index])\n",
    "        \n",
    "        if(had_zero):\n",
    "            nums[index_of_zero] = total_product_without_zero\n",
    "        \n",
    "        return nums\n",
    "\n",
    "#     def determine_sub_product(self, total_product, num):\n",
    "#         counter = 0\n",
    "#         if(total_product > 0):\n",
    "#             while(total_product > 0):\n",
    "#                 total_product -= num\n",
    "#                 counter+=1\n",
    "#         else:\n",
    "#             if(num < 0):\n",
    "#                 while(total_product < 0):\n",
    "#                     total_product -= num\n",
    "#                     counter+=1\n",
    "#             else:\n",
    "#                 while(total_product < 0):\n",
    "#                     total_product += num\n",
    "#                     counter -=1\n",
    "#         return counter"
   ]
  },
  {
   "cell_type": "code",
   "execution_count": 53,
   "metadata": {},
   "outputs": [
    {
     "name": "stdout",
     "output_type": "stream",
     "text": [
      "[120, 60, 40, 30, 24]\n",
      "[0, 1]\n",
      "[0, 0, 15]\n",
      "[50, -10, -5]\n"
     ]
    }
   ],
   "source": [
    "array = [1,2,3,4,5]\n",
    "# total = 120\n",
    "print(Solution().productExceptSelf(array))\n",
    "\n",
    "array = [1,0]\n",
    "print(Solution().productExceptSelf(array))\n",
    "\n",
    "array = [3,5,0]\n",
    "print(Solution().productExceptSelf(array))\n",
    "\n",
    "array = [-1,5,10]\n",
    "print(Solution().productExceptSelf(array))"
   ]
  },
  {
   "cell_type": "code",
   "execution_count": null,
   "metadata": {},
   "outputs": [],
   "source": []
  }
 ],
 "metadata": {
  "kernelspec": {
   "display_name": "Python 3",
   "language": "python",
   "name": "python3"
  },
  "language_info": {
   "codemirror_mode": {
    "name": "ipython",
    "version": 3
   },
   "file_extension": ".py",
   "mimetype": "text/x-python",
   "name": "python",
   "nbconvert_exporter": "python",
   "pygments_lexer": "ipython3",
   "version": "3.6.9"
  }
 },
 "nbformat": 4,
 "nbformat_minor": 2
}
