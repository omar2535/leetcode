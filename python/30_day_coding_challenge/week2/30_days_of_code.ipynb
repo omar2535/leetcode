{
 "cells": [
  {
   "cell_type": "code",
   "execution_count": 82,
   "metadata": {},
   "outputs": [],
   "source": [
    "import math\n",
    "# Definition for singly-linked list.\n",
    "class ListNode:\n",
    "    def __init__(self, x):\n",
    "        self.val = x\n",
    "        self.next = None\n",
    "\n",
    "class Solution:\n",
    "    def middleNode(self, head: ListNode) -> ListNode:\n",
    "        array = []\n",
    "        while(head):\n",
    "            array.append(head)\n",
    "            head = head.next\n",
    "        if(len(array) % 2 == 0):\n",
    "            return array[int(len(array)/2)]\n",
    "        else:\n",
    "            return array[len(array)//2]"
   ]
  },
  {
   "cell_type": "code",
   "execution_count": 83,
   "metadata": {},
   "outputs": [
    {
     "data": {
      "text/plain": [
       "2"
      ]
     },
     "execution_count": 83,
     "metadata": {},
     "output_type": "execute_result"
    }
   ],
   "source": [
    "head = ListNode(0)\n",
    "head.next = ListNode(1)\n",
    "head.next.next = ListNode(2)\n",
    "head.next.next.next = ListNode(3)\n",
    "head.next.next.next.next = ListNode(4)\n",
    "Solution().middleNode(head).val"
   ]
  },
  {
   "cell_type": "code",
   "execution_count": 2,
   "metadata": {},
   "outputs": [],
   "source": [
    "class Solution:\n",
    "    def backspaceCompare(self, S: str, T: str) -> bool:\n",
    "        S = self.calculate_resulting_string(S)\n",
    "        T = self.calculate_resulting_string(T)\n",
    "        return S == T\n",
    "\n",
    "    def calculate_resulting_string(self, S: str) -> str:\n",
    "        new_string = \"\"\n",
    "        for i in range(0, len(S)):\n",
    "            if(S[i] != '#'):\n",
    "                new_string += S[i]\n",
    "            if(S[i] == '#'):\n",
    "                new_string = new_string[0:len(new_string)-1]\n",
    "        return new_string"
   ]
  },
  {
   "cell_type": "code",
   "execution_count": 3,
   "metadata": {},
   "outputs": [
    {
     "name": "stdout",
     "output_type": "stream",
     "text": [
      "True\n"
     ]
    }
   ],
   "source": [
    "S = \"a##c\"\n",
    "T = \"#a#c\"\n",
    "print(Solution().backspaceCompare(S,T))"
   ]
  },
  {
   "cell_type": "code",
   "execution_count": 72,
   "metadata": {},
   "outputs": [],
   "source": [
    "class MinStack:\n",
    "\n",
    "    min_order = []\n",
    "    stack = []\n",
    "\n",
    "    def __init__(self):\n",
    "        \"\"\"\n",
    "        initialize your data structure here.\n",
    "        \"\"\"\n",
    "        self.min_order = []\n",
    "        self.stack = []\n",
    "\n",
    "    def push(self, x: int) -> None:\n",
    "        self.stack.append(x)\n",
    "        self.insert_into_min_order(x)\n",
    "\n",
    "    def pop(self) -> None:\n",
    "        if(len(self.stack) == 0):\n",
    "            return\n",
    "        if(self.stack[len(self.stack)-1] == self.min_order[len(self.min_order)-1]):\n",
    "            self.min_order = self.min_order[0:len(self.min_order)-1]\n",
    "            self.stack = self.stack[0:len(self.stack) - 1]\n",
    "        else:\n",
    "            self.stack = self.stack[0:len(self.stack) - 1]\n",
    "\n",
    "    def top(self) -> int:\n",
    "        if(len(self.stack) == 0):\n",
    "            return\n",
    "        return self.stack[len(self.stack)-1]\n",
    "    \n",
    "    def getMin(self) -> int:\n",
    "        if(len(self.stack) == 0):\n",
    "            return\n",
    "        return self.min_order[len(self.min_order)-1]\n",
    "\n",
    "    def insert_into_min_order(self, x:int) -> None:\n",
    "        if(self.min_order == []):\n",
    "            self.min_order.append(x)\n",
    "        elif(self.min_order[len(self.min_order)-1] >= x):\n",
    "            self.min_order.append(x)\n",
    "\n",
    "# Your MinStack object will be instantiated and called as such:\n",
    "# obj = MinStack()\n",
    "# obj.push(x)\n",
    "# obj.pop()\n",
    "# param_3 = obj.top()\n",
    "# param_4 = obj.getMin()"
   ]
  },
  {
   "cell_type": "code",
   "execution_count": 73,
   "metadata": {},
   "outputs": [
    {
     "name": "stdout",
     "output_type": "stream",
     "text": [
      "0\n",
      "[0, 0]\n",
      "[0, 1, 0]\n",
      "[0, 1]\n",
      "0\n",
      "[0]\n",
      "0\n",
      "[]\n",
      "None\n",
      "[]\n",
      "None\n"
     ]
    }
   ],
   "source": [
    "minstack = MinStack()\n",
    "minstack.push(0)\n",
    "minstack.push(1)\n",
    "minstack.push(0)\n",
    "print(minstack.getMin())\n",
    "print(minstack.min_order)\n",
    "print(minstack.stack)\n",
    "minstack.pop()\n",
    "print(minstack.stack)\n",
    "print(minstack.getMin())\n",
    "\n",
    "minstack.pop()\n",
    "print(minstack.stack)\n",
    "print(minstack.getMin())\n",
    "\n",
    "minstack.pop()\n",
    "print(minstack.stack)\n",
    "print(minstack.getMin())\n",
    "\n",
    "minstack.pop()\n",
    "print(minstack.stack)\n",
    "print(minstack.getMin())"
   ]
  },
  {
   "cell_type": "code",
   "execution_count": 84,
   "metadata": {},
   "outputs": [],
   "source": [
    "# Definition for a binary tree node.\n",
    "class TreeNode:\n",
    "    def __init__(self, x):\n",
    "        self.val = x\n",
    "        self.left = None\n",
    "        self.right = None\n",
    "\n",
    "class Solution:\n",
    "    def diameterOfBinaryTree(self, root: TreeNode) -> int:\n",
    "        return self.diamater_of_tree_recursive(root, 0)\n",
    "\n",
    "    def diamater_of_tree_recursive(self, root: TreeNode, currentDiamater: int) -> int:\n",
    "        if(root == None):\n",
    "            return currentDiamater\n",
    "        if(root.left == None and root.right == None):\n",
    "            return currentDiamater\n",
    "        elif(root.left != None and root.right == None):\n",
    "            return self.diamater_of_tree_recursive(root.left, currentDiamater + 1)\n",
    "        elif(root.left == None and root.right != None):\n",
    "            return self.diamater_of_tree_recursive(root.right, currentDiamater + 1)\n",
    "        else:\n",
    "            return max(\n",
    "                self.diamater_of_tree_recursive(root.left, currentDiamater + 1),\n",
    "                self.diamater_of_tree_recursive(root.right, currentDiamater + 1),\n",
    "                self.diamater_of_tree_recursive(root.left, 1) + self.diamater_of_tree_recursive(root.right, 1)\n",
    "            )"
   ]
  },
  {
   "cell_type": "code",
   "execution_count": 86,
   "metadata": {},
   "outputs": [
    {
     "name": "stdout",
     "output_type": "stream",
     "text": [
      "2\n",
      "5\n",
      "6\n"
     ]
    }
   ],
   "source": [
    "root = TreeNode(1)\n",
    "root.left = TreeNode(2)\n",
    "root.right = TreeNode(3)\n",
    "print(Solution().diameterOfBinaryTree(root))\n",
    "\n",
    "root = TreeNode(1)\n",
    "root.left = TreeNode(2)\n",
    "root.right = TreeNode(3)\n",
    "root.right.right = TreeNode(7)\n",
    "root.left.left = TreeNode(4)\n",
    "root.left.right = TreeNode(5)\n",
    "root.left.left.left = TreeNode(6)\n",
    "print(Solution().diameterOfBinaryTree(root))\n",
    "\n",
    "root = TreeNode(1)\n",
    "root.left = TreeNode(2)\n",
    "root.right = TreeNode(3)\n",
    "root.left.left = TreeNode(4)\n",
    "root.left.right = TreeNode(5)\n",
    "root.right.left = TreeNode(6)\n",
    "root.right.right = TreeNode(7)\n",
    "root.left.left.left = TreeNode(8)\n",
    "root.left.left.right = TreeNode(9)\n",
    "root.left.right.left = TreeNode(10)\n",
    "\n",
    "print(Solution().diameterOfBinaryTree(root))"
   ]
  },
  {
   "cell_type": "code",
   "execution_count": 103,
   "metadata": {},
   "outputs": [],
   "source": [
    "from typing import List\n",
    "class Solution:\n",
    "    def lastStoneWeight(self, stones: List[int]) -> int:\n",
    "        List.sort(stones)\n",
    "        if(len(stones) == 1):\n",
    "            return stones[0]\n",
    "        elif(len(stones) == 0):\n",
    "            return 0\n",
    "        else:\n",
    "            max_stone = stones[len(stones) - 1]\n",
    "            second_max_stone = stones[len(stones) - 2]\n",
    "            remaining_stone = max_stone - second_max_stone\n",
    "            del stones[-1]\n",
    "            del stones[-1]\n",
    "            if(remaining_stone != 0):\n",
    "                stones.append(remaining_stone)\n",
    "            return self.lastStoneWeight(stones)\n",
    "            "
   ]
  },
  {
   "cell_type": "code",
   "execution_count": 105,
   "metadata": {},
   "outputs": [
    {
     "data": {
      "text/plain": [
       "1"
      ]
     },
     "execution_count": 105,
     "metadata": {},
     "output_type": "execute_result"
    }
   ],
   "source": [
    "array = [2,7,4,1,8,1]\n",
    "Solution().lastStoneWeight(array)\n"
   ]
  }
 ],
 "metadata": {
  "kernelspec": {
   "display_name": "Python 3",
   "language": "python",
   "name": "python3"
  },
  "language_info": {
   "codemirror_mode": {
    "name": "ipython",
    "version": 3
   },
   "file_extension": ".py",
   "mimetype": "text/x-python",
   "name": "python",
   "nbconvert_exporter": "python",
   "pygments_lexer": "ipython3",
   "version": "3.6.9"
  }
 },
 "nbformat": 4,
 "nbformat_minor": 2
}
