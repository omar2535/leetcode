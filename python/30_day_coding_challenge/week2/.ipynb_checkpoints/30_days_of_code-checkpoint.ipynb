{
 "cells": [
  {
   "cell_type": "code",
   "execution_count": 82,
   "metadata": {},
   "outputs": [],
   "source": [
    "import math\n",
    "# Definition for singly-linked list.\n",
    "class ListNode:\n",
    "    def __init__(self, x):\n",
    "        self.val = x\n",
    "        self.next = None\n",
    "\n",
    "class Solution:\n",
    "    def middleNode(self, head: ListNode) -> ListNode:\n",
    "        array = []\n",
    "        while(head):\n",
    "            array.append(head)\n",
    "            head = head.next\n",
    "        if(len(array) % 2 == 0):\n",
    "            return array[int(len(array)/2)]\n",
    "        else:\n",
    "            return array[len(array)//2]"
   ]
  },
  {
   "cell_type": "code",
   "execution_count": 83,
   "metadata": {},
   "outputs": [
    {
     "data": {
      "text/plain": [
       "2"
      ]
     },
     "execution_count": 83,
     "metadata": {},
     "output_type": "execute_result"
    }
   ],
   "source": [
    "head = ListNode(0)\n",
    "head.next = ListNode(1)\n",
    "head.next.next = ListNode(2)\n",
    "head.next.next.next = ListNode(3)\n",
    "head.next.next.next.next = ListNode(4)\n",
    "Solution().middleNode(head).val"
   ]
  },
  {
   "cell_type": "code",
   "execution_count": 2,
   "metadata": {},
   "outputs": [],
   "source": [
    "class Solution:\n",
    "    def backspaceCompare(self, S: str, T: str) -> bool:\n",
    "        S = self.calculate_resulting_string(S)\n",
    "        T = self.calculate_resulting_string(T)\n",
    "        return S == T\n",
    "\n",
    "    def calculate_resulting_string(self, S: str) -> str:\n",
    "        new_string = \"\"\n",
    "        for i in range(0, len(S)):\n",
    "            if(S[i] != '#'):\n",
    "                new_string += S[i]\n",
    "            if(S[i] == '#'):\n",
    "                new_string = new_string[0:len(new_string)-1]\n",
    "        return new_string"
   ]
  },
  {
   "cell_type": "code",
   "execution_count": 3,
   "metadata": {},
   "outputs": [
    {
     "name": "stdout",
     "output_type": "stream",
     "text": [
      "True\n"
     ]
    }
   ],
   "source": [
    "S = \"a##c\"\n",
    "T = \"#a#c\"\n",
    "print(Solution().backspaceCompare(S,T))"
   ]
  },
  {
   "cell_type": "code",
   "execution_count": 58,
   "metadata": {},
   "outputs": [],
   "source": [
    "class MinStack:\n",
    "\n",
    "    min_order = []\n",
    "    stack = []\n",
    "\n",
    "    def __init__(self):\n",
    "        \"\"\"\n",
    "        initialize your data structure here.\n",
    "        \"\"\"\n",
    "        self.min_order = []\n",
    "        self.stack = []\n",
    "\n",
    "    def push(self, x: int) -> None:\n",
    "        self.stack.append(x)\n",
    "        self.insert_into_min_order(x)\n",
    "\n",
    "    def pop(self) -> None:\n",
    "        if(self.stack[len(self.stack)-1] == self.min_order[len(self.min_order)-1]):\n",
    "            self.min_order = self.min_order[0:len(self.min_order)-1]\n",
    "            self.stack = self.stack[0:len(self.stack) - 1]\n",
    "        else:\n",
    "            self.stack = self.stack[0:len(self.stack) - 1]\n",
    "\n",
    "    def top(self) -> int:\n",
    "        return self.stack[len(self.stack)-1]\n",
    "    \n",
    "    def getMin(self) -> int:\n",
    "        return self.min_order[len(self.min_order)-1]\n",
    "\n",
    "    def insert_into_min_order(self, x:int) -> None:\n",
    "        if(self.min_order == []):\n",
    "            self.min_order.append(x)\n",
    "        elif(self.min_order[len(self.min_order)-1] > x):\n",
    "            self.min_order.append(x)\n",
    "\n",
    "# Your MinStack object will be instantiated and called as such:\n",
    "# obj = MinStack()\n",
    "# obj.push(x)\n",
    "# obj.pop()\n",
    "# param_3 = obj.top()\n",
    "# param_4 = obj.getMin()"
   ]
  },
  {
   "cell_type": "code",
   "execution_count": 63,
   "metadata": {},
   "outputs": [
    {
     "name": "stdout",
     "output_type": "stream",
     "text": [
      "0\n",
      "[1, 0]\n",
      "[1, 2, 0, 1.5, 3]\n",
      "[1, 2, 0, 1.5, 3]\n",
      "0\n"
     ]
    }
   ],
   "source": [
    "minstack = MinStack()\n",
    "minstack.push(1)\n",
    "minstack.push(2)\n",
    "minstack.push(0)\n",
    "minstack.push(1.5)\n",
    "minstack.push(3)\n",
    "print(minstack.getMin())\n",
    "print(minstack.min_order)\n",
    "print(minstack.stack)\n",
    "minstack.pop()\n",
    "print(minstack.stack)\n",
    "print(minstack.getMin())"
   ]
  },
  {
   "cell_type": "code",
   "execution_count": 54,
   "metadata": {},
   "outputs": [
    {
     "name": "stdout",
     "output_type": "stream",
     "text": [
      "[1, 2]\n"
     ]
    }
   ],
   "source": [
    "array = [1,2,3]\n",
    "array = array[0:2]\n",
    "print(array)"
   ]
  }
 ],
 "metadata": {
  "kernelspec": {
   "display_name": "Python 3",
   "language": "python",
   "name": "python3"
  },
  "language_info": {
   "codemirror_mode": {
    "name": "ipython",
    "version": 3
   },
   "file_extension": ".py",
   "mimetype": "text/x-python",
   "name": "python",
   "nbconvert_exporter": "python",
   "pygments_lexer": "ipython3",
   "version": "3.6.9"
  }
 },
 "nbformat": 4,
 "nbformat_minor": 2
}
