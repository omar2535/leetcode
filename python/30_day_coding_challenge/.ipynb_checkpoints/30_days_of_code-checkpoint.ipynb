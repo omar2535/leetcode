{
 "cells": [
  {
   "cell_type": "code",
   "execution_count": 37,
   "metadata": {},
   "outputs": [],
   "source": [
    "import math\n",
    "# Definition for singly-linked list.\n",
    "class ListNode:\n",
    "    def __init__(self, x):\n",
    "        self.val = x\n",
    "        self.next = None\n",
    "\n",
    "class Solution:\n",
    "    def middleNode(self, head: ListNode) -> ListNode:\n",
    "        array = []\n",
    "        while(head):\n",
    "            array.append(head)\n",
    "            head = head.next\n",
    "        if(len(array) % 2 == 0):\n",
    "            return array[int(len(array)/2)]\n",
    "        else:\n",
    "            return array[len(array)//2]\n",
    "\n"
   ]
  },
  {
   "cell_type": "code",
   "execution_count": 41,
   "metadata": {},
   "outputs": [
    {
     "data": {
      "text/plain": [
       "2"
      ]
     },
     "execution_count": 41,
     "metadata": {},
     "output_type": "execute_result"
    }
   ],
   "source": [
    "head = ListNode(0)\n",
    "head.next = ListNode(1)\n",
    "head.next.next = ListNode(2)\n",
    "head.next.next.next = ListNode(3)\n",
    "head.next.next.next.next = ListNode(4)\n",
    "Solution().middleNode(head).val\n"
   ]
  },
  {
   "cell_type": "code",
   "execution_count": 45,
   "metadata": {},
   "outputs": [],
   "source": [
    "class Solution:\n",
    "    def backspaceCompare(self, S: str, T: str) -> bool:\n",
    "        S = calculate_resulting_string(S)\n",
    "\n",
    "    def calculate_resulting_string(self, S: str) -> str:\n",
    "        for i in range(0, len(S)):\n",
    "            if(S[i] == '#'):\n",
    "                S = S[0:i-1] + S[i+1:]\n",
    "            \n",
    "    "
   ]
  },
  {
   "cell_type": "code",
   "execution_count": 59,
   "metadata": {},
   "outputs": [
    {
     "name": "stdout",
     "output_type": "stream",
     "text": [
      "L\n",
      "#\n",
      "O\n",
      "L\n",
      "OAR\n"
     ]
    }
   ],
   "source": [
    "Solution().backspaceCompare(\"L#OL\", \"OL\")\n",
    "\"OMAR\"[0:len(\"OMAR\")-1]\n",
    "\n",
    "\n",
    "omar = \"OM#AR\"\n",
    "omar = omar[0:1] + omar[3:]\n",
    "print(omar)"
   ]
  },
  {
   "cell_type": "code",
   "execution_count": null,
   "metadata": {},
   "outputs": [],
   "source": []
  }
 ],
 "metadata": {
  "kernelspec": {
   "display_name": "Python 3",
   "language": "python",
   "name": "python3"
  },
  "language_info": {
   "codemirror_mode": {
    "name": "ipython",
    "version": 3
   },
   "file_extension": ".py",
   "mimetype": "text/x-python",
   "name": "python",
   "nbconvert_exporter": "python",
   "pygments_lexer": "ipython3",
   "version": "3.6.9"
  }
 },
 "nbformat": 4,
 "nbformat_minor": 2
}
