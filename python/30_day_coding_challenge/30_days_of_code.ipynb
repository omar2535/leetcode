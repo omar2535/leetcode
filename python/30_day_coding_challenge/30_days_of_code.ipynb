{
 "cells": [
  {
   "cell_type": "code",
   "execution_count": 82,
   "metadata": {},
   "outputs": [],
   "source": [
    "import math\n",
    "# Definition for singly-linked list.\n",
    "class ListNode:\n",
    "    def __init__(self, x):\n",
    "        self.val = x\n",
    "        self.next = None\n",
    "\n",
    "class Solution:\n",
    "    def middleNode(self, head: ListNode) -> ListNode:\n",
    "        array = []\n",
    "        while(head):\n",
    "            array.append(head)\n",
    "            head = head.next\n",
    "        if(len(array) % 2 == 0):\n",
    "            return array[int(len(array)/2)]\n",
    "        else:\n",
    "            return array[len(array)//2]"
   ]
  },
  {
   "cell_type": "code",
   "execution_count": 83,
   "metadata": {},
   "outputs": [
    {
     "data": {
      "text/plain": [
       "2"
      ]
     },
     "execution_count": 83,
     "metadata": {},
     "output_type": "execute_result"
    }
   ],
   "source": [
    "head = ListNode(0)\n",
    "head.next = ListNode(1)\n",
    "head.next.next = ListNode(2)\n",
    "head.next.next.next = ListNode(3)\n",
    "head.next.next.next.next = ListNode(4)\n",
    "Solution().middleNode(head).val"
   ]
  },
  {
   "cell_type": "code",
   "execution_count": 73,
   "metadata": {},
   "outputs": [],
   "source": [
    "class Solution:\n",
    "    def backspaceCompare(self, S: str, T: str) -> bool:\n",
    "        S = self.calculate_resulting_string(S)\n",
    "        T = self.calculate_resulting_string(T)\n",
    "        return S == T\n",
    "\n",
    "    def calculate_resulting_string(self, S: str) -> str:\n",
    "        new_string = \"\"\n",
    "        for i in range(0, len(S)):\n",
    "            if(S[i] != '#'):\n",
    "                new_string += S[i]\n",
    "            if(S[i] == '#'):\n",
    "                new_string = new_string[0:len(new_string)-1]\n",
    "        return new_string"
   ]
  },
  {
   "cell_type": "code",
   "execution_count": 81,
   "metadata": {},
   "outputs": [
    {
     "name": "stdout",
     "output_type": "stream",
     "text": [
      "True\n"
     ]
    }
   ],
   "source": [
    "S = \"a##c\"\n",
    "T = \"#a#c\"\n",
    "print(Solution().backspaceCompare(S,T))"
   ]
  },
  {
   "cell_type": "code",
   "execution_count": null,
   "metadata": {},
   "outputs": [],
   "source": []
  }
 ],
 "metadata": {
  "kernelspec": {
   "display_name": "Python 3",
   "language": "python",
   "name": "python3"
  },
  "language_info": {
   "codemirror_mode": {
    "name": "ipython",
    "version": 3
   },
   "file_extension": ".py",
   "mimetype": "text/x-python",
   "name": "python",
   "nbconvert_exporter": "python",
   "pygments_lexer": "ipython3",
   "version": "3.6.9"
  }
 },
 "nbformat": 4,
 "nbformat_minor": 2
}
