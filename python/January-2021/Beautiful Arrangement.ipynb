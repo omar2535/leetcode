{
 "cells": [
  {
   "cell_type": "code",
   "execution_count": 54,
   "metadata": {},
   "outputs": [],
   "source": [
    "import itertools\n",
    "class Solution:\n",
    "    def countArrangement(self, n: int) -> int:\n",
    "        initial_list = list(range(1,n+1))\n",
    "        permutations = list(itertools.permutations(initial_list))\n",
    "        beautiful_arrangement_count = 0\n",
    "        for permutation in permutations:\n",
    "            is_valid = True\n",
    "            for i in range(len(permutation)):\n",
    "                if permutation[i] % (i+1) == 0 or (i+1) % permutation[i] == 0:\n",
    "                    pass\n",
    "                else:\n",
    "                    is_valid = False\n",
    "                    break\n",
    "            if is_valid:\n",
    "                beautiful_arrangement_count += 1\n",
    "            \n",
    "        return beautiful_arrangement_count"
   ]
  },
  {
   "cell_type": "code",
   "execution_count": 56,
   "metadata": {},
   "outputs": [
    {
     "data": {
      "text/plain": [
       "750"
      ]
     },
     "execution_count": 56,
     "metadata": {},
     "output_type": "execute_result"
    }
   ],
   "source": [
    "Solution().countArrangement(11)"
   ]
  },
  {
   "cell_type": "code",
   "execution_count": null,
   "metadata": {},
   "outputs": [],
   "source": []
  },
  {
   "cell_type": "code",
   "execution_count": null,
   "metadata": {},
   "outputs": [],
   "source": []
  }
 ],
 "metadata": {
  "kernelspec": {
   "display_name": "Python 3",
   "language": "python",
   "name": "python3"
  },
  "language_info": {
   "codemirror_mode": {
    "name": "ipython",
    "version": 3
   },
   "file_extension": ".py",
   "mimetype": "text/x-python",
   "name": "python",
   "nbconvert_exporter": "python",
   "pygments_lexer": "ipython3",
   "version": "3.8.2"
  }
 },
 "nbformat": 4,
 "nbformat_minor": 4
}
