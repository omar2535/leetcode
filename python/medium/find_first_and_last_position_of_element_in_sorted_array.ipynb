{
 "cells": [
  {
   "cell_type": "code",
   "execution_count": 69,
   "metadata": {},
   "outputs": [],
   "source": [
    "from typing import List\n",
    "\n",
    "# Soltuion: do search for min and then search for max using recursion on min of the recursions\n",
    "class Solution:\n",
    "    def searchRange(self, nums: List[int], target: int) -> List[int]:\n",
    "        if(len(nums) == 0):\n",
    "            return [-1,-1]\n",
    "        minimum = self.searchRangeRecursiveMin(nums, target, 0, len(nums)-1)\n",
    "        maximum = self.searchRangeRecursiveMax(nums, target, 0, len(nums)-1)\n",
    "        if(minimum == len(nums) + 1 or maximum == -1):\n",
    "            return [-1, -1]\n",
    "        else:\n",
    "            return [minimum, maximum]\n",
    "        \n",
    "    def searchRangeRecursiveMin(self, nums: List[int], target: int, start_index, end_index):\n",
    "        if(start_index == end_index and target == nums[start_index]):\n",
    "            return end_index\n",
    "        elif((start_index == end_index) and target != nums[start_index]):\n",
    "            return len(nums) + 1\n",
    "        else:\n",
    "            mid_point = int((start_index + end_index) / 2)\n",
    "            return min(\n",
    "                self.searchRangeRecursiveMin(nums, target, start_index, mid_point),\n",
    "                self.searchRangeRecursiveMin(nums, target, mid_point+1, end_index)\n",
    "            )\n",
    "    def searchRangeRecursiveMax(self, nums: List[int], target: int, start_index, end_index):\n",
    "        if(start_index == end_index and target == nums[start_index]):\n",
    "            return end_index\n",
    "        elif((start_index == end_index) and target != nums[start_index]):\n",
    "            return -1\n",
    "        else:\n",
    "            mid_point = int((start_index + end_index) / 2)\n",
    "            return max(\n",
    "                self.searchRangeRecursiveMax(nums, target, start_index, mid_point),\n",
    "                self.searchRangeRecursiveMax(nums, target, mid_point+1, end_index)\n",
    "            )"
   ]
  },
  {
   "cell_type": "code",
   "execution_count": 70,
   "metadata": {},
   "outputs": [
    {
     "name": "stdout",
     "output_type": "stream",
     "text": [
      "maximum: 4, minimum: 3\n",
      "maximum: -1, minimum: 7\n",
      "maximum: 0, minimum: 0\n",
      "maximum: 1, minimum: 1\n"
     ]
    },
    {
     "data": {
      "text/plain": [
       "[1, 1]"
      ]
     },
     "execution_count": 70,
     "metadata": {},
     "output_type": "execute_result"
    }
   ],
   "source": [
    "Solution().searchRange([5,7,7,8,8,10], 8)\n",
    "Solution().searchRange([5,7,7,8,8,10], 6)\n",
    "Solution().searchRange([1,3], 1)\n",
    "Solution().searchRange([1,3], 3)"
   ]
  },
  {
   "cell_type": "code",
   "execution_count": 50,
   "metadata": {},
   "outputs": [
    {
     "name": "stdout",
     "output_type": "stream",
     "text": [
      "7.0\n"
     ]
    }
   ],
   "source": [
    "print(4+6/2)"
   ]
  }
 ],
 "metadata": {
  "kernelspec": {
   "display_name": "Python 3",
   "language": "python",
   "name": "python3"
  },
  "language_info": {
   "codemirror_mode": {
    "name": "ipython",
    "version": 3
   },
   "file_extension": ".py",
   "mimetype": "text/x-python",
   "name": "python",
   "nbconvert_exporter": "python",
   "pygments_lexer": "ipython3",
   "version": "3.6.8"
  }
 },
 "nbformat": 4,
 "nbformat_minor": 2
}
