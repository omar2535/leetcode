{
 "cells": [
  {
   "cell_type": "code",
   "execution_count": 22,
   "metadata": {},
   "outputs": [],
   "source": [
    "# Definition for singly-linked list.\n",
    "# this problem can be done in one pass if you stored all the nodes in an array then just did an instant \n",
    "# lookup for the element you want to remove and remove it.\n",
    "# but this will then take O(n) storage.\n",
    "# Given linked list: 1->2->3->4->5, and n = 2.\n",
    "\n",
    "# After removing the second node from the end, the linked list becomes 1->2->3->5.\n",
    "\n",
    "class ListNode:\n",
    "    def __init__(self, x):\n",
    "        self.val = x\n",
    "        self.next = None\n",
    "\n",
    "class Solution:\n",
    "    def removeNthFromEnd(self, head: ListNode, n: int) -> ListNode:\n",
    "        list_elements = []\n",
    "        length = 0\n",
    "        current_element = head\n",
    "        while current_element:\n",
    "            list_elements.append(current_element)\n",
    "            current_element = current_element.next\n",
    "            length += 1\n",
    "        if(length == 1):\n",
    "            return None\n",
    "        elif(n == 1 and length >= 2):\n",
    "            list_elements[length-2].next = None\n",
    "        elif(n == length):\n",
    "            list_elements = list_elements[1:]\n",
    "        else:\n",
    "            list_elements[-n-1].next = list_elements[-n+1]\n",
    "        return list_elements[0]"
   ]
  },
  {
   "cell_type": "code",
   "execution_count": 23,
   "metadata": {},
   "outputs": [
    {
     "data": {
      "text/plain": [
       "<__main__.ListNode at 0x7f0aad6034e0>"
      ]
     },
     "execution_count": 23,
     "metadata": {},
     "output_type": "execute_result"
    }
   ],
   "source": [
    "head = ListNode(1)\n",
    "head.next = ListNode(2)\n",
    "head.next.next = ListNode(3)\n",
    "head.next.next = ListNode(4)\n",
    "head.next.next.next = ListNode(5)\n",
    "\n",
    "Solution().removeNthFromEnd(head, 2)\n",
    "# [1 -> 2 -> 3 -> 4 -> 5, 2]\n",
    "\n",
    "head = ListNode(1)\n",
    "head.next = ListNode(2)\n",
    "head.next.next = None\n",
    "Solution().removeNthFromEnd(head, 2)\n",
    "# [1 -> 2, 2]"
   ]
  }
 ],
 "metadata": {
  "kernelspec": {
   "display_name": "Python 3",
   "language": "python",
   "name": "python3"
  },
  "language_info": {
   "codemirror_mode": {
    "name": "ipython",
    "version": 3
   },
   "file_extension": ".py",
   "mimetype": "text/x-python",
   "name": "python",
   "nbconvert_exporter": "python",
   "pygments_lexer": "ipython3",
   "version": "3.6.8"
  }
 },
 "nbformat": 4,
 "nbformat_minor": 2
}
