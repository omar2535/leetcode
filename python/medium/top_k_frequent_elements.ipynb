{
 "cells": [
  {
   "cell_type": "code",
   "execution_count": 37,
   "metadata": {},
   "outputs": [],
   "source": [
    "from typing import List\n",
    "# runtime: n+nlogn+n = O(nlogn)\n",
    "class Solution:\n",
    "    def topKFrequent(self, nums: List[int], k: int) -> List[int]:\n",
    "        elements = {}\n",
    "        for element in nums:\n",
    "            if(element not in elements):\n",
    "                elements[element] = 1\n",
    "            else:\n",
    "                elements[element] += 1\n",
    "        elements_arr = []\n",
    "        for element in elements:\n",
    "            elements_arr += [(element, elements[element])]\n",
    "        elements_arr.sort(key=self.takeSecond, reverse=True)\n",
    "        returned_elements = []\n",
    "        for i in range(0, k):\n",
    "            returned_elements += [elements_arr[i][0]]\n",
    "        return returned_elements\n",
    "\n",
    "    def takeSecond(self, elem):\n",
    "        return elem[1]"
   ]
  },
  {
   "cell_type": "code",
   "execution_count": 38,
   "metadata": {},
   "outputs": [
    {
     "name": "stdout",
     "output_type": "stream",
     "text": [
      "[(1, 3), (2, 2), (3, 1)]\n"
     ]
    },
    {
     "data": {
      "text/plain": [
       "[1, 2]"
      ]
     },
     "execution_count": 38,
     "metadata": {},
     "output_type": "execute_result"
    }
   ],
   "source": [
    "Solution().topKFrequent([1,1,1,2,2,3], 2)"
   ]
  }
 ],
 "metadata": {
  "kernelspec": {
   "display_name": "Python 3",
   "language": "python",
   "name": "python3"
  },
  "language_info": {
   "codemirror_mode": {
    "name": "ipython",
    "version": 3
   },
   "file_extension": ".py",
   "mimetype": "text/x-python",
   "name": "python",
   "nbconvert_exporter": "python",
   "pygments_lexer": "ipython3",
   "version": "3.6.8"
  }
 },
 "nbformat": 4,
 "nbformat_minor": 2
}
